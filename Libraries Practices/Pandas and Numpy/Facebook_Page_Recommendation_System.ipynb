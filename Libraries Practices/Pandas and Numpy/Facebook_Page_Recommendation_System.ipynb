{
 "cells": [
  {
   "cell_type": "markdown",
   "id": "c4c35a09-85fb-4f2c-893d-0f3944230f41",
   "metadata": {},
   "source": [
    "# Question\n",
    "You are given the list of Facebook friends and the list of Facebook pages that users follow. Your task is to create a new recommendation system for Facebook. For each Facebook user, find pages that this user doesn't follow but at least one of their friends does. Output the user ID and the ID of the page that should be recommended to this user."
   ]
  },
  {
   "cell_type": "markdown",
   "id": "de2fa6f4-bb0c-47d8-bf9e-8e522549f3d3",
   "metadata": {},
   "source": [
    "# Solution1\n",
    "In this solution all of the pages are suggested that are followed by atleast one of the user's friend"
   ]
  },
  {
   "cell_type": "code",
   "execution_count": 3,
   "id": "172d20f8-e19c-4be7-8658-0028c80854ec",
   "metadata": {},
   "outputs": [
    {
     "name": "stdout",
     "output_type": "stream",
     "text": [
      "    user_id  page_id\n",
      "0         1       23\n",
      "1         1       24\n",
      "2         1       28\n",
      "3         3       23\n",
      "4         3       28\n",
      "5         3       21\n",
      "6         4       21\n",
      "7         4       25\n",
      "8         4       23\n",
      "9         4       24\n",
      "10        4       28\n",
      "11        5       21\n",
      "12        5       25\n",
      "13        5       24\n"
     ]
    }
   ],
   "source": [
    "\n",
    "import pandas as pd\n",
    "from collections import Counter\n",
    "\n",
    "users_friends = pd.DataFrame({\n",
    "    'user_id': [1, 1, 1, 2, 2, 2, 2, 3, 4, 4, 5, 5],\n",
    "    'friend_id': [2, 4, 5, 1, 3, 4, 5, 2, 1, 2, 1, 2]\n",
    "})\n",
    "\n",
    "users_pages = pd.DataFrame({\n",
    "    'user_id': [1, 1, 2, 2, 2, 2, 2, 3, 3, 5, 5],\n",
    "    'page_id': [21, 25, 25, 23, 24, 28, 21, 25, 24, 23, 28]\n",
    "})\n",
    "\n",
    "\n",
    "recomendation = {}\n",
    "for user in users_friends['user_id'].unique():\n",
    "    recomendation[int(user)]=[]\n",
    "\n",
    "for row1 in users_friends.itertuples():\n",
    "    for row2 in users_pages.itertuples():\n",
    "        if row1.friend_id == row2.user_id:\n",
    "            if row2.page_id not in recomendation[row1.user_id]:\n",
    "                if row2.page_id not in users_pages.loc[ users_pages['user_id'] == row1.user_id , 'page_id'].tolist():\n",
    "                    recomendation[row1.user_id].append(row2.page_id)\n",
    "\n",
    "df = pd.DataFrame([\n",
    "    {\"user_id\": user_id, \"page_id\": page_id}\n",
    "    for user_id, pages in recomendation.items()\n",
    "    for page_id in pages\n",
    "])\n",
    "\n",
    "print(df)\n",
    " "
   ]
  },
  {
   "cell_type": "markdown",
   "id": "aff46a0f-4e8e-4bbb-98d2-8198e1a522de",
   "metadata": {},
   "source": [
    "# Solution 2\n",
    "In this solution only one page is recommended to the user that is followed by most of user's friends"
   ]
  },
  {
   "cell_type": "code",
   "execution_count": 4,
   "id": "611ee861-219c-4413-a6b7-92ace32c3d86",
   "metadata": {},
   "outputs": [
    {
     "name": "stdout",
     "output_type": "stream",
     "text": [
      "   user_id  page_id\n",
      "0        1       23\n",
      "1        2       -1\n",
      "2        3       23\n",
      "3        4       21\n",
      "4        5       21\n"
     ]
    }
   ],
   "source": [
    "\n",
    "import pandas as pd\n",
    "from collections import Counter\n",
    "\n",
    "users_friends = pd.DataFrame({\n",
    "    'user_id': [1, 1, 1, 2, 2, 2, 2, 3, 4, 4, 5, 5],\n",
    "    'friend_id': [2, 4, 5, 1, 3, 4, 5, 2, 1, 2, 1, 2]\n",
    "})\n",
    "\n",
    "users_pages = pd.DataFrame({\n",
    "    'user_id': [1, 1, 2, 2, 2, 2, 2, 3, 3, 5, 5],\n",
    "    'page_id': [21, 25, 25, 23, 24, 28, 21, 25, 24, 23, 28]\n",
    "})\n",
    "\n",
    "\n",
    "\n",
    "recomendation = {}\n",
    "for user in users_friends['user_id'].unique():\n",
    "    recomendation[int(user)]=[]\n",
    "\n",
    "for row1 in users_friends.itertuples():\n",
    "    for row2 in users_pages.itertuples():\n",
    "        if row1.friend_id == row2.user_id:\n",
    "            if row2.page_id not in users_pages.loc[ users_pages['user_id'] == row1.user_id , 'page_id'].tolist():\n",
    "                    recomendation[row1.user_id].append(row2.page_id)\n",
    "\n",
    "\n",
    "\n",
    "\n",
    "results = {}\n",
    "\n",
    "for key , values in recomendation.items():\n",
    "    if values:\n",
    "        \n",
    "        counts = Counter(values)\n",
    "        max_count = max(counts.values())\n",
    "        \n",
    "        for v in values:\n",
    "            if counts[v] == max_count:\n",
    "                results[key] = v\n",
    "                break\n",
    "        \n",
    "    else:\n",
    "        results[key] = -1\n",
    "        \n",
    "\n",
    "\n",
    "recomendation = pd.DataFrame(list(results.items()),columns=['user_id', 'page_id'])\n",
    "\n",
    "print(recomendation)\n",
    " "
   ]
  },
  {
   "cell_type": "code",
   "execution_count": null,
   "id": "9d1cab3a-1768-4b26-b0e1-1553456dc0b3",
   "metadata": {},
   "outputs": [],
   "source": []
  }
 ],
 "metadata": {
  "kernelspec": {
   "display_name": "Python 3 (ipykernel)",
   "language": "python",
   "name": "python3"
  },
  "language_info": {
   "codemirror_mode": {
    "name": "ipython",
    "version": 3
   },
   "file_extension": ".py",
   "mimetype": "text/x-python",
   "name": "python",
   "nbconvert_exporter": "python",
   "pygments_lexer": "ipython3",
   "version": "3.13.2"
  }
 },
 "nbformat": 4,
 "nbformat_minor": 5
}
